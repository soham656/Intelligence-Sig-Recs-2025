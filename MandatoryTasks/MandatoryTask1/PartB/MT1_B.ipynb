{
 "cells": [
  {
   "cell_type": "code",
   "execution_count": 1,
   "id": "eb3175d4-88b2-46cb-ac8d-94ca8e8a4ce9",
   "metadata": {
    "scrolled": true
   },
   "outputs": [
    {
     "name": "stdout",
     "output_type": "stream",
     "text": [
      "Requirement already satisfied: transformers in c:\\users\\soham\\condaaa\\lib\\site-packages (4.57.1)\n",
      "Requirement already satisfied: filelock in c:\\users\\soham\\condaaa\\lib\\site-packages (from transformers) (3.13.1)\n",
      "Requirement already satisfied: huggingface-hub<1.0,>=0.34.0 in c:\\users\\soham\\condaaa\\lib\\site-packages (from transformers) (0.35.3)\n",
      "Requirement already satisfied: numpy>=1.17 in c:\\users\\soham\\condaaa\\lib\\site-packages (from transformers) (1.26.4)\n",
      "Requirement already satisfied: packaging>=20.0 in c:\\users\\soham\\condaaa\\lib\\site-packages (from transformers) (24.1)\n",
      "Requirement already satisfied: pyyaml>=5.1 in c:\\users\\soham\\condaaa\\lib\\site-packages (from transformers) (6.0.1)\n",
      "Requirement already satisfied: regex!=2019.12.17 in c:\\users\\soham\\condaaa\\lib\\site-packages (from transformers) (2024.9.11)\n",
      "Requirement already satisfied: requests in c:\\users\\soham\\condaaa\\lib\\site-packages (from transformers) (2.32.3)\n",
      "Requirement already satisfied: tokenizers<=0.23.0,>=0.22.0 in c:\\users\\soham\\condaaa\\lib\\site-packages (from transformers) (0.22.1)\n",
      "Requirement already satisfied: safetensors>=0.4.3 in c:\\users\\soham\\condaaa\\lib\\site-packages (from transformers) (0.6.2)\n",
      "Requirement already satisfied: tqdm>=4.27 in c:\\users\\soham\\condaaa\\lib\\site-packages (from transformers) (4.66.5)\n",
      "Requirement already satisfied: fsspec>=2023.5.0 in c:\\users\\soham\\condaaa\\lib\\site-packages (from huggingface-hub<1.0,>=0.34.0->transformers) (2024.6.1)\n",
      "Requirement already satisfied: typing-extensions>=3.7.4.3 in c:\\users\\soham\\condaaa\\lib\\site-packages (from huggingface-hub<1.0,>=0.34.0->transformers) (4.14.0)\n",
      "Requirement already satisfied: colorama in c:\\users\\soham\\condaaa\\lib\\site-packages (from tqdm>=4.27->transformers) (0.4.6)\n",
      "Requirement already satisfied: charset-normalizer<4,>=2 in c:\\users\\soham\\condaaa\\lib\\site-packages (from requests->transformers) (3.3.2)\n",
      "Requirement already satisfied: idna<4,>=2.5 in c:\\users\\soham\\condaaa\\lib\\site-packages (from requests->transformers) (3.7)\n",
      "Requirement already satisfied: urllib3<3,>=1.21.1 in c:\\users\\soham\\condaaa\\lib\\site-packages (from requests->transformers) (2.5.0)\n",
      "Requirement already satisfied: certifi>=2017.4.17 in c:\\users\\soham\\condaaa\\lib\\site-packages (from requests->transformers) (2025.7.14)\n"
     ]
    }
   ],
   "source": [
    "!pip install transformers"
   ]
  },
  {
   "cell_type": "markdown",
   "id": "9d1fb069",
   "metadata": {},
   "source": [
    "My first intuition was to create a transformer from scratch but it was ridiculously tough despite having in depth knowledge of it so i decided to use a pre\n",
    "trained model."
   ]
  },
  {
   "cell_type": "code",
   "execution_count": 2,
   "id": "2db5e071-af6e-4861-991d-b36819c86058",
   "metadata": {},
   "outputs": [],
   "source": [
    "from transformers import pipeline"
   ]
  },
  {
   "cell_type": "code",
   "execution_count": 5,
   "id": "fb53e317-48af-406b-881b-cd54135c650e",
   "metadata": {},
   "outputs": [
    {
     "name": "stderr",
     "output_type": "stream",
     "text": [
      "Device set to use cpu\n"
     ]
    }
   ],
   "source": [
    "translator = pipeline(\"translation\", model=\"Helsinki-NLP/opus-mt-en-fr\")"
   ]
  },
  {
   "cell_type": "code",
   "execution_count": 19,
   "id": "2d2081a0-2069-4907-a96b-56ccbb516219",
   "metadata": {},
   "outputs": [
    {
     "name": "stdout",
     "output_type": "stream",
     "text": [
      "Bonjour, comment allez-vous ?\n"
     ]
    }
   ],
   "source": [
    "print(result[0]['translation_text'])"
   ]
  },
  {
   "cell_type": "code",
   "execution_count": 22,
   "id": "4ab22ad4-f591-4896-b3d6-e2584e00ce35",
   "metadata": {},
   "outputs": [],
   "source": [
    "def translate(text):\n",
    "    result = translator(text)\n",
    "    return result[0][\"translation_text\"]"
   ]
  },
  {
   "cell_type": "code",
   "execution_count": 23,
   "id": "f519799b-b4b1-4d4a-9eb0-d7d722804dbf",
   "metadata": {},
   "outputs": [
    {
     "data": {
      "text/plain": [
       "'Comment ça va ?'"
      ]
     },
     "execution_count": 23,
     "metadata": {},
     "output_type": "execute_result"
    }
   ],
   "source": [
    "translate(\"hi how are u\")"
   ]
  },
  {
   "cell_type": "code",
   "execution_count": 24,
   "id": "7a2e0114-ad0f-45bc-9f02-d72650598fa7",
   "metadata": {},
   "outputs": [
    {
     "data": {
      "text/plain": [
       "'C:\\\\Users\\\\SOHAM'"
      ]
     },
     "execution_count": 24,
     "metadata": {},
     "output_type": "execute_result"
    }
   ],
   "source": [
    "pwd"
   ]
  },
  {
   "cell_type": "code",
   "execution_count": 26,
   "id": "78d32650-18bf-41bd-91d0-441cc1737369",
   "metadata": {},
   "outputs": [],
   "source": [
    "english_file = \"C:/Users/SOHAM/english.txt\"\n",
    "kannada_file = \"C:/Users/SOHAM/kannada.txt\"  \n",
    "\n",
    " \n",
    "\n",
    "START_TOKEN = ''\n",
    "PADDING_TOKEN = ''\n",
    "END_TOKEN = ''\n",
    "\n",
    " \n",
    "kannada_vocabulary = [\n",
    "    'ಅ', 'ಆ', 'ಇ', 'ಈ', 'ಉ', 'ಊ', 'ಋ', 'ೠ', 'ಌ', 'ಎ', 'ಏ', 'ಐ', 'ಒ', 'ಓ', 'ಔ',\n",
    "    'ಕ', 'ಖ', 'ಗ', 'ಘ', 'ಙ',\n",
    "    'ಚ', 'ಛ', 'ಜ', 'ಝ', 'ಞ',\n",
    "    'ಟ', 'ಠ', 'ಡ', 'ಢ', 'ಣ',\n",
    "    'ತ', 'ಥ', 'ದ', 'ಧ', 'ನ',\n",
    "    'ಪ', 'ಫ', 'ಬ', 'ಭ', 'ಮ',\n",
    "    'ಯ', 'ರ', 'ಱ', 'ಲ', 'ಳ', 'ವ', 'ಶ', 'ಷ', 'ಸ', 'ಹ',\n",
    "    '಼', 'ಽ', 'ೃ', 'ೄ', 'ೈ', 'ೞ', 'ೣ', 'ಂ', 'ಃ'\n",
    "]\n",
    "\n",
    "\n",
    "english_vocabulary = [\n",
    "    'a', 'b', 'c', 'd', 'e', 'f', 'g', 'h', 'i', 'j', 'k', 'l',\n",
    "    'm', 'n', 'o', 'p', 'q', 'r', 's', 't', 'u', 'v', 'w', 'x',\n",
    "    'y', 'z'\n",
    "]\n"
   ]
  },
  {
   "cell_type": "code",
   "execution_count": 27,
   "id": "94e9a5b0-d55a-45a4-aa46-c9c5d5289e9d",
   "metadata": {},
   "outputs": [],
   "source": [
    "index_to_kannada = {k:v for k,v in enumerate(kannada_vocabulary)}\n",
    "kannada_to_index = {v:k for k,v in enumerate(kannada_vocabulary)}\n",
    "index_to_english = {k:v for k,v in enumerate(english_vocabulary)}\n",
    "english_to_index = {v:k for k,v in enumerate(english_vocabulary)}\n",
    "     "
   ]
  },
  {
   "cell_type": "code",
   "execution_count": null,
   "id": "89dd519c-bf54-41f4-80d4-5f5d0503ea12",
   "metadata": {},
   "outputs": [],
   "source": [
    "\n"
   ]
  },
  {
   "cell_type": "code",
   "execution_count": null,
   "id": "67bc7b41-3286-4494-8075-ec286dffc3d0",
   "metadata": {},
   "outputs": [],
   "source": []
  }
 ],
 "metadata": {
  "kernelspec": {
   "display_name": "Python 3 (ipykernel)",
   "language": "python",
   "name": "python3"
  },
  "language_info": {
   "codemirror_mode": {
    "name": "ipython",
    "version": 3
   },
   "file_extension": ".py",
   "mimetype": "text/x-python",
   "name": "python",
   "nbconvert_exporter": "python",
   "pygments_lexer": "ipython3",
   "version": "3.12.3"
  }
 },
 "nbformat": 4,
 "nbformat_minor": 5
}
